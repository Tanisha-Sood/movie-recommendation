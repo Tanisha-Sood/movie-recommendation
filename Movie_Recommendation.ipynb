{
  "nbformat": 4,
  "nbformat_minor": 0,
  "metadata": {
    "colab": {
      "provenance": []
    },
    "kernelspec": {
      "name": "python3",
      "display_name": "Python 3"
    },
    "language_info": {
      "name": "python"
    }
  },
  "cells": [
    {
      "cell_type": "code",
      "execution_count": 4,
      "metadata": {
        "colab": {
          "base_uri": "https://localhost:8080/"
        },
        "id": "4nKKw-MhsnVC",
        "outputId": "0f82e7b2-ba3b-4557-b0c6-079f632f6826"
      },
      "outputs": [
        {
          "output_type": "stream",
          "name": "stdout",
          "text": [
            "Enter the emotion: Drama\n",
            "ok https://www.imdb.com/search/title/?title_type=feature&genres=drama\n",
            "\n",
            "1. It Ends with Us\n",
            "\n",
            "2. Inside Out 2\n",
            "\n",
            "3. The Instigators\n",
            "\n",
            "4. Kingdom of the Planet of the Apes\n",
            "\n",
            "5. Horizon: An American Saga - Chapter 1\n",
            "\n",
            "6. The Lord of the Rings: The War of the Rohirrim\n",
            "\n",
            "7. The Bikeriders\n"
          ]
        }
      ],
      "source": [
        "import requests\n",
        "from bs4 import BeautifulSoup\n",
        "import re\n",
        "\n",
        "# Dictionary to map emotions to IMDb URLs\n",
        "URLS = {\n",
        "    \"Drama\": 'https://www.imdb.com/search/title/?title_type=feature&genres=drama',\n",
        "    \"Action\": 'https://www.imdb.com/search/title/?title_type=feature&genres=action',\n",
        "    \"Comedy\": 'https://www.imdb.com/search/title/?title_type=feature&genres=comedy',\n",
        "    \"Horror\": 'https://www.imdb.com/search/title/?title_type=feature&genres=horror',\n",
        "    \"Crime\": 'https://www.imdb.com/search/title/?title_type=feature&genres=crime',\n",
        "}\n",
        "\n",
        "def main(emotion):\n",
        "    url = URLS.get(emotion)\n",
        "    print(\"ok\", url)\n",
        "    if not url:\n",
        "        print(\"Invalid emotion.\")\n",
        "        return []\n",
        "\n",
        "    headers = {\n",
        "    'User-Agent':\n",
        "    'Mozilla/5.0 (Windows NT 10.0; Win64; x64) AppleWebKit/537.36 (KHTML, like Gecko) Chrome/91.0.4472.124 Safari/537.36'\n",
        "}\n",
        "\n",
        "    try:\n",
        "        response = requests.get(url, headers=headers)\n",
        "        response.raise_for_status()  # Check for HTTP errors\n",
        "    except requests.RequestException as e:\n",
        "        print(f\"Error fetching data: {e}\")\n",
        "        return []\n",
        "\n",
        "    soup = BeautifulSoup(response.text, \"lxml\")\n",
        "\n",
        "    # Extract movie titles\n",
        "    titles = [a.get_text() for a in soup.find_all('a', href=re.compile(r'/title/tt\\d+/'))]\n",
        "    return titles\n",
        "\n",
        "# Driver Function\n",
        "if __name__ == '__main__':\n",
        "    emotion = input(\"Enter the emotion: \").strip()\n",
        "    movie_titles = main(emotion)\n",
        "\n",
        "    if not movie_titles:\n",
        "        print(\"No titles found.\")\n",
        "    else:\n",
        "        max_titles = 14 if emotion in [\"Drama\", \"Action\", \"Comedy\", \"Horror\", \"Crime\"] else 12\n",
        "        for title in movie_titles[:max_titles]:\n",
        "            print(title)\n"
      ]
    }
  ]
}